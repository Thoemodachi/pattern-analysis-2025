{
 "cells": [
  {
   "cell_type": "markdown",
   "id": "029708e6",
   "metadata": {},
   "source": [
    "Demo 2"
   ]
  },
  {
   "cell_type": "code",
   "execution_count": 2,
   "id": "67299ca2",
   "metadata": {},
   "outputs": [
    {
     "name": "stdout",
     "output_type": "stream",
     "text": [
      "OK, matmul shape: torch.Size([4096, 4096]) elapsed(s): 1.014\n"
     ]
    }
   ],
   "source": [
    "# quick check\n",
    "import torch, time\n",
    "x = torch.randn(4096, 4096, device='cuda' if torch.cuda.is_available() else 'cpu')\n",
    "t0=time.time(); y = x @ x.T; torch.cuda.synchronize() if torch.cuda.is_available() else None\n",
    "print(\"OK, matmul shape:\", y.shape, \"elapsed(s):\", round(time.time()-t0,3))"
   ]
  }
 ],
 "metadata": {
  "kernelspec": {
   "display_name": "ai",
   "language": "python",
   "name": "python3"
  },
  "language_info": {
   "codemirror_mode": {
    "name": "ipython",
    "version": 3
   },
   "file_extension": ".py",
   "mimetype": "text/x-python",
   "name": "python",
   "nbconvert_exporter": "python",
   "pygments_lexer": "ipython3",
   "version": "3.10.18"
  }
 },
 "nbformat": 4,
 "nbformat_minor": 5
}
